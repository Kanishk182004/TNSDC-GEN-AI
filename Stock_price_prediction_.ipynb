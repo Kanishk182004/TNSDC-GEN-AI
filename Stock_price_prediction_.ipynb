{
  "nbformat": 4,
  "nbformat_minor": 0,
  "metadata": {
    "colab": {
      "provenance": [],
      "authorship_tag": "ABX9TyOYwlLkskMk20wA+PFLpx6C",
      "include_colab_link": true
    },
    "kernelspec": {
      "name": "python3",
      "display_name": "Python 3"
    },
    "language_info": {
      "name": "python"
    }
  },
  "cells": [
    {
      "cell_type": "markdown",
      "metadata": {
        "id": "view-in-github",
        "colab_type": "text"
      },
      "source": [
        "<a href=\"https://colab.research.google.com/github/Kanishk182004/TNSDC-GEN-AI/blob/main/Stock_price_prediction_.ipynb\" target=\"_parent\"><img src=\"https://colab.research.google.com/assets/colab-badge.svg\" alt=\"Open In Colab\"/></a>"
      ]
    },
    {
      "cell_type": "code",
      "execution_count": 2,
      "metadata": {
        "colab": {
          "base_uri": "https://localhost:8080/"
        },
        "id": "Ba_oTuB051iT",
        "outputId": "6a4426ef-7e59-447f-fc44-29287a3007dc"
      },
      "outputs": [
        {
          "output_type": "stream",
          "name": "stderr",
          "text": [
            "<ipython-input-2-04bc79ae0641>:23: SettingWithCopyWarning: \n",
            "A value is trying to be set on a copy of a slice from a DataFrame.\n",
            "Try using .loc[row_indexer,col_indexer] = value instead\n",
            "\n",
            "See the caveats in the documentation: https://pandas.pydata.org/pandas-docs/stable/user_guide/indexing.html#returning-a-view-versus-a-copy\n",
            "  df_filtered['symbol']= le.fit_transform(df_filtered['symbol'])\n",
            "<ipython-input-2-04bc79ae0641>:25: SettingWithCopyWarning: \n",
            "A value is trying to be set on a copy of a slice from a DataFrame\n",
            "\n",
            "See the caveats in the documentation: https://pandas.pydata.org/pandas-docs/stable/user_guide/indexing.html#returning-a-view-versus-a-copy\n",
            "  df_filtered[column].fillna(df_filtered[column].mean(), inplace=True)\n"
          ]
        },
        {
          "output_type": "stream",
          "name": "stdout",
          "text": [
            "0.406435453770533\n",
            "Root Mean Squared Error (RMSE): 0.852353725454381\n",
            "R-squared (R^2): 0.9999513615802885\n"
          ]
        }
      ],
      "source": [
        "import numpy as np\n",
        "import pandas as pd\n",
        "import matplotlib.pyplot as plt\n",
        "import seaborn as sns\n",
        "from sklearn.metrics import mean_squared_error, r2_score,mean_absolute_error\n",
        "from sklearn.preprocessing import LabelEncoder, StandardScaler\n",
        "df=pd.read_csv('stock_prices.csv')\n",
        "df.date = pd.to_datetime(df.date)\n",
        "df['year'] = df['date'].dt.year\n",
        "df['month'] = df['date'].dt.month\n",
        "df['day'] = df['date'].dt.day\n",
        "\n",
        "df.drop('date', axis=1, inplace=True)\n",
        "df['symbol'].value_counts()\n",
        "# Remove Outliers for OPEN feature\n",
        "df_filtered = df[df['open'] <= 250]\n",
        "df_filtered = df[df['high'] <= 250]\n",
        "df_filtered = df[df['low'] <= 250]\n",
        "df_filtered = df[df['close'] <= 250]\n",
        "df_filtered = df[df['volume'] <= 2400000]\n",
        "le = LabelEncoder()\n",
        "\n",
        "df_filtered['symbol']= le.fit_transform(df_filtered['symbol'])\n",
        "for column in df.columns:\n",
        "    df_filtered[column].fillna(df_filtered[column].mean(), inplace=True)\n",
        "\n",
        "df_filtered.isnull().sum().sum()\n",
        "Y = df_filtered['close']\n",
        "X = df_filtered.drop('close', axis=1)\n",
        "from sklearn.model_selection import train_test_split\n",
        "\n",
        "x_train, x_test, y_train, y_test = train_test_split(X, Y, test_size=0.2, random_state=42)\n",
        "from sklearn.linear_model import LinearRegression\n",
        "\n",
        "model = LinearRegression()\n",
        "\n",
        "model.fit(x_train, y_train)\n",
        "y_hat = model.predict(x_test)\n",
        "\n",
        "print(mean_absolute_error(y_test, y_hat))\n",
        "\n",
        "\n",
        "# Assuming y_test and y_pred are the true values and predicted values, respectively\n",
        "# Calculate Mean Squared Error (MSE)\n",
        "mse = mean_squared_error(y_test, y_hat)\n",
        "\n",
        "# Calculate Root Mean Squared Error (RMSE)\n",
        "rmse = np.sqrt(mse)\n",
        "\n",
        "# Calculate R-squared (R^2)\n",
        "r_squared = r2_score(y_test, y_hat)\n",
        "\n",
        "print(\"Root Mean Squared Error (RMSE):\", rmse)\n",
        "print(\"R-squared (R^2):\", r_squared)\n",
        "\n"
      ]
    }
  ]
}